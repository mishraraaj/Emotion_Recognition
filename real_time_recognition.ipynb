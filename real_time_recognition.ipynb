{
 "cells": [
  {
   "cell_type": "code",
   "execution_count": 7,
   "metadata": {},
   "outputs": [],
   "source": [
    "import cv2\n",
    "from skimage import feature"
   ]
  },
  {
   "cell_type": "code",
   "execution_count": 8,
   "metadata": {},
   "outputs": [],
   "source": [
    "import matplotlib.pyplot as plt"
   ]
  },
  {
   "cell_type": "code",
   "execution_count": 9,
   "metadata": {},
   "outputs": [],
   "source": [
    "num_of_samp=100\n",
    "vid=cv2.VideoCapture(0)\n",
    "#harcascade for frontalface"
   ]
  },
  {
   "cell_type": "code",
   "execution_count": 10,
   "metadata": {},
   "outputs": [],
   "source": [
    "face_cascade=cv2.CascadeClassifier('haarcascade_frontalface_default.xml')"
   ]
  },
  {
   "cell_type": "code",
   "execution_count": 5,
   "metadata": {},
   "outputs": [],
   "source": [
    "iter=0"
   ]
  },
  {
   "cell_type": "code",
   "execution_count": 6,
   "metadata": {},
   "outputs": [],
   "source": [
    "from sklearn.externals import joblib\n",
    "m=joblib.load('new_face1.pkl')"
   ]
  },
  {
   "cell_type": "code",
   "execution_count": null,
   "metadata": {},
   "outputs": [],
   "source": [
    "while(iter<num_of_samp):\n",
    "    r,frame=vid.read();#capture single frame\n",
    "    frame=cv2.resize(frame,(640,480))\n",
    "    im1=cv2.cvtColor(frame,cv2.COLOR_RGB2GRAY)\n",
    "    #colour_image\n",
    "    face=face_cascade.detectMultiScale(im1)\n",
    "    for x,y,w,h in face:\n",
    "        cv2.rectangle(frame,(x,y),(x+w,y+h),[0,255,0],2)\n",
    "        iter=iter+1\n",
    "        im_f=im1[y:y+h,x:x+h]\n",
    "        im_f=cv2.resize(im_f,(112,92))\n",
    "        feat=feature.hog(im_f, orientations=8, pixels_per_cell=(16, 16),\n",
    "                         cells_per_block=(1, 1), visualize=False, multichannel=False)\n",
    "        op=feat.reshape(1,-1)\n",
    "        v=m.predict(op)\n",
    "        print(v)\n",
    "        cv2.putText(frame,'sample no.'+str(v[0]),(x,y),cv2.FONT_ITALIC,1,(255,0,255),2,cv2.LINE_AA)\n",
    "        cv2.imwrite('ghj.png',frame)\n",
    "        cv2.imshow('fghffcv2',frame)\n",
    "        cv2.waitKey(100)\n",
    "vid.release()\n",
    "cv2.destroyAllWindows()"
   ]
  },
  {
   "cell_type": "code",
   "execution_count": 16,
   "metadata": {},
   "outputs": [],
   "source": [
    "from sklearn.metrics import accuracy_score"
   ]
  },
  {
   "cell_type": "code",
   "execution_count": 17,
   "metadata": {},
   "outputs": [
    {
     "data": {
      "text/plain": [
       "array([25.])"
      ]
     },
     "execution_count": 17,
     "metadata": {},
     "output_type": "execute_result"
    }
   ],
   "source": [
    "v"
   ]
  },
  {
   "cell_type": "code",
   "execution_count": 8,
   "metadata": {},
   "outputs": [],
   "source": [
    "vid.release()\n",
    "cv2.destroyAllWindows()"
   ]
  },
  {
   "cell_type": "code",
   "execution_count": null,
   "metadata": {},
   "outputs": [],
   "source": []
  }
 ],
 "metadata": {
  "kernelspec": {
   "display_name": "Python 3",
   "language": "python",
   "name": "python3"
  },
  "language_info": {
   "codemirror_mode": {
    "name": "ipython",
    "version": 3
   },
   "file_extension": ".py",
   "mimetype": "text/x-python",
   "name": "python",
   "nbconvert_exporter": "python",
   "pygments_lexer": "ipython3",
   "version": "3.7.6"
  }
 },
 "nbformat": 4,
 "nbformat_minor": 2
}
