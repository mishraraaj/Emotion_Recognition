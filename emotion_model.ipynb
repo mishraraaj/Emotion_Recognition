{
 "cells": [
  {
   "cell_type": "code",
   "execution_count": 31,
   "metadata": {},
   "outputs": [],
   "source": [
    "import cv2\n",
    "from sklearn.externals import joblib"
   ]
  },
  {
   "cell_type": "code",
   "execution_count": 32,
   "metadata": {},
   "outputs": [],
   "source": [
    "import matplotlib.image as mimg\n",
    "import matplotlib.pyplot as plt"
   ]
  },
  {
   "cell_type": "code",
   "execution_count": 33,
   "metadata": {},
   "outputs": [],
   "source": [
    "from sklearn.externals import joblib\n",
    "from sklearn.metrics import accuracy_score"
   ]
  },
  {
   "cell_type": "code",
   "execution_count": 34,
   "metadata": {},
   "outputs": [],
   "source": [
    "import numpy as np"
   ]
  },
  {
   "cell_type": "code",
   "execution_count": 35,
   "metadata": {},
   "outputs": [],
   "source": [
    "num_of_user=4\n",
    "\n",
    "num_of_samp=360"
   ]
  },
  {
   "cell_type": "code",
   "execution_count": 36,
   "metadata": {},
   "outputs": [],
   "source": [
    "path='C:\\\\Users\\\\Raaj\\\\Downloads\\\\jaffe\\\\1\\\\y(1).jpg'\n",
    "#'C:\\Users\\Raaj\\Downloads\\expressions\\1'"
   ]
  },
  {
   "cell_type": "code",
   "execution_count": 37,
   "metadata": {},
   "outputs": [],
   "source": [
    "from skimage import feature\n",
    "face_cascade=cv2.CascadeClassifier('haarcascade_frontalface_default.xml')"
   ]
  },
  {
   "cell_type": "code",
   "execution_count": 38,
   "metadata": {},
   "outputs": [],
   "source": [
    "data=np.zeros((num_of_user*num_of_samp,2048))\n",
    "target=np.zeros((num_of_user*num_of_samp))\n",
    "\n"
   ]
  },
  {
   "cell_type": "code",
   "execution_count": 39,
   "metadata": {},
   "outputs": [],
   "source": [
    "count=-1\n",
    "l=['happy','sad','neutral','surprise']\n",
    "\n",
    "l2=[]\n",
    "for j in range(len(l)):\n",
    "    l2.append(j+1)\n",
    "\n",
    "iter=0\n",
    "from skimage import color\n",
    "from skimage import io\n"
   ]
  },
  {
   "cell_type": "code",
   "execution_count": 40,
   "metadata": {},
   "outputs": [],
   "source": [
    "count=-1\n",
    "for i in range(1,num_of_user+1):\n",
    "    for j in  range(1,num_of_samp+1):\n",
    "        count=count+1\n",
    "        path='C:\\\\Users\\\\Raaj\\\\Downloads\\\\expressions\\\\%d\\\\1 (%d).jpg'%(i,j)\n",
    "        im=mimg.imread(path)\n",
    "        face=face_cascade.detectMultiScale(im)\n",
    "        for x,y,w,h in face:\n",
    "            iter=iter+1\n",
    "            im_f=im[y:y+h,x:x+h]\n",
    "            im_f=cv2.resize(im_f,(256,256))\n",
    "        feat=feature.hog(im_f, orientations=8, pixels_per_cell=(16, 16),\n",
    "                         cells_per_block=(1, 1), visualize=False, multichannel=False)\n",
    "        data[count,:]=feat.reshape(1,-1)\n",
    "        target[count]=i\n",
    "        \n"
   ]
  },
  {
   "cell_type": "code",
   "execution_count": 41,
   "metadata": {},
   "outputs": [],
   "source": [
    "from  sklearn.model_selection import train_test_split\n",
    "x_train,x_test,y_train,y_test=train_test_split(data,target,test_size=0.2)"
   ]
  },
  {
   "cell_type": "code",
   "execution_count": 42,
   "metadata": {},
   "outputs": [],
   "source": [
    "from  sklearn import svm"
   ]
  },
  {
   "cell_type": "code",
   "execution_count": 43,
   "metadata": {},
   "outputs": [
    {
     "data": {
      "text/plain": [
       "100.0"
      ]
     },
     "execution_count": 43,
     "metadata": {},
     "output_type": "execute_result"
    }
   ],
   "source": [
    "model=svm.SVC(kernel='linear',gamma=2)\n",
    "model.fit(x_train,y_train)\n",
    "pred=model.predict(x_test)\n",
    "y=accuracy_score(y_test,pred)*100\n",
    "\n",
    "y"
   ]
  },
  {
   "cell_type": "code",
   "execution_count": 14,
   "metadata": {},
   "outputs": [
    {
     "data": {
      "text/plain": [
       "MLPClassifier(activation='relu', alpha=0.0001, batch_size='auto', beta_1=0.9,\n",
       "       beta_2=0.999, early_stopping=False, epsilon=1e-08,\n",
       "       hidden_layer_sizes=[250, 200], learning_rate='constant',\n",
       "       learning_rate_init=0.001, max_iter=5000, momentum=0.9,\n",
       "       n_iter_no_change=10, nesterovs_momentum=True, power_t=0.5,\n",
       "       random_state=None, shuffle=True, solver='lbfgs', tol=1e-05,\n",
       "       validation_fraction=0.1, verbose=False, warm_start=False)"
      ]
     },
     "execution_count": 14,
     "metadata": {},
     "output_type": "execute_result"
    }
   ],
   "source": [
    "from sklearn.neural_network import MLPClassifier\n",
    "#s={‘lbfgs’, ‘sgd’, ‘adam’}\n",
    "nueral_model1=MLPClassifier(hidden_layer_sizes=[250,200],solver= 'lbfgs',max_iter=5000,   tol=0.00001)\n",
    "\n",
    "nueral_model1"
   ]
  },
  {
   "cell_type": "code",
   "execution_count": 15,
   "metadata": {},
   "outputs": [],
   "source": [
    "nueral_model1=nueral_model1.fit(x_train,y_train)\n",
    "\n",
    "op=nueral_model1.predict(x_test)\n",
    "\n",
    "a=accuracy_score(y_test,op)*100"
   ]
  },
  {
   "cell_type": "code",
   "execution_count": 60,
   "metadata": {},
   "outputs": [
    {
     "data": {
      "text/plain": [
       "\"count=-1\\nfor i in range(1,8):\\n    for j in  range(26,31):\\n        count=count+1\\n        path='C:\\\\Users\\\\Raaj\\\\Downloads\\\\jaffe\\\\%d\\\\y(%d).jpg'%(i,j)\\n        im=mimg.imread(path)\\n        face=face_cascade.detectMultiScale(im)\\n        for x,y,w,h in face:\\n            iter=iter+1\\n            im_f=im[y:y+h,x:x+h]\\n            im_f=cv2.resize(im_f,(256,256))\\n        feat=feature.hog(im_f, orientations=8, pixels_per_cell=(16, 16),\\n                         cells_per_block=(1, 1), visualize=False, multichannel=False)\\n        \\n        test_data[count,:]=feat.reshape(1,-1)\\n        test_target[count]=i\\n        plt.imshow(im,cmap='gray')\\n        plt.pause(0.1)\\n        \""
      ]
     },
     "execution_count": 60,
     "metadata": {},
     "output_type": "execute_result"
    }
   ],
   "source": [
    "'''count=-1\n",
    "for i in range(1,8):\n",
    "    for j in  range(26,31):\n",
    "        count=count+1\n",
    "        path='C:\\\\Users\\\\Raaj\\\\Downloads\\\\jaffe\\\\%d\\\\y(%d).jpg'%(i,j)\n",
    "        im=mimg.imread(path)\n",
    "        face=face_cascade.detectMultiScale(im)\n",
    "        for x,y,w,h in face:\n",
    "            iter=iter+1\n",
    "            im_f=im[y:y+h,x:x+h]\n",
    "            im_f=cv2.resize(im_f,(256,256))\n",
    "        feat=feature.hog(im_f, orientations=8, pixels_per_cell=(16, 16),\n",
    "                         cells_per_block=(1, 1), visualize=False, multichannel=False)\n",
    "        \n",
    "        test_data[count,:]=feat.reshape(1,-1)\n",
    "        test_target[count]=i\n",
    "        plt.imshow(im,cmap='gray')\n",
    "        plt.pause(0.1)\n",
    "        '''"
   ]
  },
  {
   "cell_type": "code",
   "execution_count": 15,
   "metadata": {},
   "outputs": [
    {
     "data": {
      "text/plain": [
       "['emotion_recog.pkl']"
      ]
     },
     "execution_count": 15,
     "metadata": {},
     "output_type": "execute_result"
    }
   ],
   "source": [
    "joblib.dump(model,'emotion_recog.pkl')"
   ]
  },
  {
   "cell_type": "code",
   "execution_count": 16,
   "metadata": {},
   "outputs": [
    {
     "data": {
      "text/plain": [
       "100.0"
      ]
     },
     "execution_count": 16,
     "metadata": {},
     "output_type": "execute_result"
    }
   ],
   "source": [
    "a"
   ]
  },
  {
   "cell_type": "code",
   "execution_count": 44,
   "metadata": {},
   "outputs": [
    {
     "data": {
      "text/plain": [
       "array([1., 2., 4., 2., 1., 2., 2., 3., 2., 3., 3., 1., 3., 3., 2., 3., 1.,\n",
       "       3., 3., 3., 2., 4., 1., 1., 2., 3., 3., 1., 2., 3., 2., 3., 3., 3.,\n",
       "       3., 3., 1., 3., 4., 1., 2., 2., 3., 3., 4., 2., 1., 4., 4., 3., 1.,\n",
       "       3., 4., 2., 2., 2., 4., 2., 4., 2., 2., 2., 2., 4., 2., 3., 4., 1.,\n",
       "       4., 2., 4., 2., 3., 4., 2., 1., 3., 2., 2., 4., 1., 4., 1., 4., 3.,\n",
       "       3., 2., 4., 2., 4., 1., 4., 2., 2., 3., 3., 3., 1., 1., 2., 1., 2.,\n",
       "       3., 2., 2., 4., 3., 4., 2., 3., 1., 3., 1., 1., 4., 2., 1., 1., 4.,\n",
       "       4., 4., 4., 4., 4., 4., 3., 4., 3., 1., 1., 1., 4., 1., 4., 2., 2.,\n",
       "       1., 2., 1., 1., 2., 3., 3., 1., 1., 1., 3., 4., 4., 4., 3., 2., 2.,\n",
       "       4., 1., 1., 3., 3., 3., 4., 2., 2., 3., 4., 4., 1., 3., 2., 3., 4.,\n",
       "       4., 4., 2., 2., 1., 3., 3., 1., 3., 4., 4., 2., 2., 4., 3., 4., 4.,\n",
       "       4., 2., 2., 3., 4., 3., 4., 1., 2., 2., 4., 3., 3., 1., 2., 1., 1.,\n",
       "       3., 4., 1., 2., 3., 4., 2., 1., 1., 1., 3., 2., 1., 3., 3., 2., 2.,\n",
       "       2., 3., 4., 2., 2., 1., 1., 2., 1., 4., 3., 1., 3., 1., 1., 1., 2.,\n",
       "       4., 1., 3., 2., 4., 1., 4., 4., 4., 1., 3., 2., 1., 1., 1., 2., 1.,\n",
       "       4., 3., 1., 4., 3., 2., 1., 2., 1., 2., 1., 1., 3., 1., 2., 2., 4.,\n",
       "       4., 2., 2., 1., 4., 4., 4., 3., 1., 2., 1., 4., 1., 3., 4., 2.])"
      ]
     },
     "execution_count": 44,
     "metadata": {},
     "output_type": "execute_result"
    }
   ],
   "source": [
    "model.predict(x_test)"
   ]
  },
  {
   "cell_type": "code",
   "execution_count": null,
   "metadata": {},
   "outputs": [],
   "source": []
  }
 ],
 "metadata": {
  "kernelspec": {
   "display_name": "Python 3",
   "language": "python",
   "name": "python3"
  },
  "language_info": {
   "codemirror_mode": {
    "name": "ipython",
    "version": 3
   },
   "file_extension": ".py",
   "mimetype": "text/x-python",
   "name": "python",
   "nbconvert_exporter": "python",
   "pygments_lexer": "ipython3",
   "version": "3.7.3"
  }
 },
 "nbformat": 4,
 "nbformat_minor": 2
}
